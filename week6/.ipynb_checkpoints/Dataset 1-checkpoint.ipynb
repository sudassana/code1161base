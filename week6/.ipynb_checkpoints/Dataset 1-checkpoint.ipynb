{
 "cells": [
  {
   "cell_type": "code",
   "execution_count": 31,
   "metadata": {
    "collapsed": true
   },
   "outputs": [],
   "source": [
    "import matplotlib\n",
    "import matplotlib.pyplot as plt\n",
    "import numpy as np\n",
    "import pandas as pd\n",
    "import webbrowser\n",
    "import os"
   ]
  },
  {
   "cell_type": "code",
   "execution_count": 32,
   "metadata": {
    "collapsed": true
   },
   "outputs": [],
   "source": [
    "%matplotlib inline\n",
    "plt.rcParams['figure.figsize'] = (20, 10)"
   ]
  },
  {
   "cell_type": "code",
   "execution_count": 33,
   "metadata": {
    "collapsed": true
   },
   "outputs": [],
   "source": [
    "saved_style_state = matplotlib.rcParams.copy() #give us a style state to go back to"
   ]
  },
  {
   "cell_type": "code",
   "execution_count": 34,
   "metadata": {
    "collapsed": false
   },
   "outputs": [
    {
     "name": "stdout",
     "output_type": "stream",
     "text": [
      "loading from file\n",
      "done\n"
     ]
    }
   ],
   "source": [
    "if os.path.isfile(\"ign.csv\"):\n",
    "    filepath = \"ign.csv\"\n",
    "    print \"loading from file\"\n",
    "else:\n",
    "    filepath = \"https://dl.dropboxusercontent.com/content_link/yMMHzpMcd7UEgVZ2JqidtGf8Z6N77ygAkA0N21R6JpHVauM2otep38lUp0uIoRBP/file?dl=1\"\n",
    "    print \"downloading from the internet\"\n",
    "ign_critic = pd.read_csv(filepath)\n",
    "print \"done\""
   ]
  },
  {
   "cell_type": "code",
   "execution_count": 35,
   "metadata": {
    "collapsed": false
   },
   "outputs": [
    {
     "data": {
      "text/html": [
       "<div>\n",
       "<table border=\"1\" class=\"dataframe\">\n",
       "  <thead>\n",
       "    <tr style=\"text-align: right;\">\n",
       "      <th></th>\n",
       "      <th>score_phrase</th>\n",
       "      <th>title</th>\n",
       "      <th>url</th>\n",
       "      <th>platform</th>\n",
       "      <th>score</th>\n",
       "      <th>genre</th>\n",
       "      <th>editors_choice</th>\n",
       "      <th>release_year</th>\n",
       "      <th>release_month</th>\n",
       "      <th>release_day</th>\n",
       "      <th>Unnamed: 10</th>\n",
       "    </tr>\n",
       "  </thead>\n",
       "  <tbody>\n",
       "    <tr>\n",
       "      <th>0</th>\n",
       "      <td>Amazing</td>\n",
       "      <td>LittleBigPlanet PS Vita</td>\n",
       "      <td>/games/littlebigplanet-vita/vita-98907</td>\n",
       "      <td>PlayStation Vita</td>\n",
       "      <td>9</td>\n",
       "      <td>Platformer</td>\n",
       "      <td>Y</td>\n",
       "      <td>2012</td>\n",
       "      <td>9</td>\n",
       "      <td>12</td>\n",
       "      <td>NaN</td>\n",
       "    </tr>\n",
       "    <tr>\n",
       "      <th>1</th>\n",
       "      <td>Amazing</td>\n",
       "      <td>LittleBigPlanet PS Vita -- Marvel Super Hero E...</td>\n",
       "      <td>/games/littlebigplanet-ps-vita-marvel-super-he...</td>\n",
       "      <td>PlayStation Vita</td>\n",
       "      <td>9</td>\n",
       "      <td>Platformer</td>\n",
       "      <td>Y</td>\n",
       "      <td>2012</td>\n",
       "      <td>9</td>\n",
       "      <td>12</td>\n",
       "      <td>NaN</td>\n",
       "    </tr>\n",
       "    <tr>\n",
       "      <th>2</th>\n",
       "      <td>Great</td>\n",
       "      <td>Splice: Tree of Life</td>\n",
       "      <td>/games/splice/ipad-141070</td>\n",
       "      <td>iPad</td>\n",
       "      <td>8.5</td>\n",
       "      <td>Puzzle</td>\n",
       "      <td>N</td>\n",
       "      <td>2012</td>\n",
       "      <td>9</td>\n",
       "      <td>12</td>\n",
       "      <td>NaN</td>\n",
       "    </tr>\n",
       "    <tr>\n",
       "      <th>3</th>\n",
       "      <td>Great</td>\n",
       "      <td>NHL 13</td>\n",
       "      <td>/games/nhl-13/xbox-360-128182</td>\n",
       "      <td>Xbox 360</td>\n",
       "      <td>8.5</td>\n",
       "      <td>Sports</td>\n",
       "      <td>N</td>\n",
       "      <td>2012</td>\n",
       "      <td>9</td>\n",
       "      <td>11</td>\n",
       "      <td>NaN</td>\n",
       "    </tr>\n",
       "    <tr>\n",
       "      <th>4</th>\n",
       "      <td>Great</td>\n",
       "      <td>NHL 13</td>\n",
       "      <td>/games/nhl-13/ps3-128181</td>\n",
       "      <td>PlayStation 3</td>\n",
       "      <td>8.5</td>\n",
       "      <td>Sports</td>\n",
       "      <td>N</td>\n",
       "      <td>2012</td>\n",
       "      <td>9</td>\n",
       "      <td>11</td>\n",
       "      <td>NaN</td>\n",
       "    </tr>\n",
       "  </tbody>\n",
       "</table>\n",
       "</div>"
      ],
      "text/plain": [
       "  score_phrase                                              title  \\\n",
       "0      Amazing                            LittleBigPlanet PS Vita   \n",
       "1      Amazing  LittleBigPlanet PS Vita -- Marvel Super Hero E...   \n",
       "2        Great                               Splice: Tree of Life   \n",
       "3        Great                                             NHL 13   \n",
       "4        Great                                             NHL 13   \n",
       "\n",
       "                                                 url          platform score  \\\n",
       "0             /games/littlebigplanet-vita/vita-98907  PlayStation Vita     9   \n",
       "1  /games/littlebigplanet-ps-vita-marvel-super-he...  PlayStation Vita     9   \n",
       "2                          /games/splice/ipad-141070              iPad   8.5   \n",
       "3                      /games/nhl-13/xbox-360-128182          Xbox 360   8.5   \n",
       "4                           /games/nhl-13/ps3-128181     PlayStation 3   8.5   \n",
       "\n",
       "        genre editors_choice release_year  release_month  release_day  \\\n",
       "0  Platformer              Y         2012              9           12   \n",
       "1  Platformer              Y         2012              9           12   \n",
       "2      Puzzle              N         2012              9           12   \n",
       "3      Sports              N         2012              9           11   \n",
       "4      Sports              N         2012              9           11   \n",
       "\n",
       "   Unnamed: 10  \n",
       "0          NaN  \n",
       "1          NaN  \n",
       "2          NaN  \n",
       "3          NaN  \n",
       "4          NaN  "
      ]
     },
     "execution_count": 35,
     "metadata": {},
     "output_type": "execute_result"
    }
   ],
   "source": [
    "ign_critic.head()"
   ]
  },
  {
   "cell_type": "code",
   "execution_count": 36,
   "metadata": {
    "collapsed": false
   },
   "outputs": [
    {
     "data": {
      "text/plain": [
       "Index([u'score_phrase', u'title', u'url', u'platform', u'score', u'genre',\n",
       "       u'editors_choice', u'release_year', u'release_month', u'release_day',\n",
       "       u'Unnamed: 10'],\n",
       "      dtype='object')"
      ]
     },
     "execution_count": 36,
     "metadata": {},
     "output_type": "execute_result"
    }
   ],
   "source": [
    "ign_critic.columns"
   ]
  },
  {
   "cell_type": "code",
   "execution_count": 37,
   "metadata": {
    "collapsed": false
   },
   "outputs": [
    {
     "data": {
      "text/plain": [
       "score_phrase                               Great\n",
       "title                              Hotline Miami\n",
       "url               /games/hotline-miami/pc-139657\n",
       "platform                                      PC\n",
       "score                                        8.8\n",
       "genre                                     Action\n",
       "editors_choice                                 Y\n",
       "release_year                                2012\n",
       "release_month                                 10\n",
       "release_day                                   26\n",
       "Unnamed: 10                                  NaN\n",
       "Name: 69, dtype: object"
      ]
     },
     "execution_count": 37,
     "metadata": {},
     "output_type": "execute_result"
    }
   ],
   "source": [
    "row_seventy = ign_critic.iloc[69]\n",
    "row_seventy"
   ]
  },
  {
   "cell_type": "code",
   "execution_count": 38,
   "metadata": {
    "collapsed": false
   },
   "outputs": [
    {
     "data": {
      "text/plain": [
       "'Great'"
      ]
     },
     "execution_count": 38,
     "metadata": {},
     "output_type": "execute_result"
    }
   ],
   "source": [
    "row_seventy[\"score_phrase\"]"
   ]
  },
  {
   "cell_type": "code",
   "execution_count": 40,
   "metadata": {
    "collapsed": false
   },
   "outputs": [
    {
     "data": {
      "text/plain": [
       "True"
      ]
     },
     "execution_count": 40,
     "metadata": {},
     "output_type": "execute_result"
    }
   ],
   "source": [
    "\"\"\"This one give the webpage url for selected game and open it in the browser\"\"\"\n",
    "baseurl = \"au.ign.com\"\n",
    "goto_url = baseurl + row_seventy[\"url\"]\n",
    "webbrowser.open_new_tab(goto_url, new=0, autoraise=True)\n"
   ]
  },
  {
   "cell_type": "code",
   "execution_count": 41,
   "metadata": {
    "collapsed": false
   },
   "outputs": [
    {
     "data": {
      "text/plain": [
       "0          9\n",
       "1          9\n",
       "2        8.5\n",
       "3        8.5\n",
       "4        8.5\n",
       "5          7\n",
       "6          3\n",
       "7          9\n",
       "8          3\n",
       "9          7\n",
       "10       7.5\n",
       "11       7.5\n",
       "12         7\n",
       "13         9\n",
       "14         9\n",
       "15       6.5\n",
       "16       6.5\n",
       "17         8\n",
       "18       5.5\n",
       "19         7\n",
       "20         7\n",
       "21       7.5\n",
       "22       7.5\n",
       "23       7.5\n",
       "24         9\n",
       "25         7\n",
       "26         9\n",
       "27       7.5\n",
       "28         8\n",
       "29       6.5\n",
       "        ... \n",
       "18595    4.4\n",
       "18596    6.5\n",
       "18597    4.9\n",
       "18598    6.8\n",
       "18599      7\n",
       "18600    7.4\n",
       "18601    7.4\n",
       "18602    7.4\n",
       "18603    7.8\n",
       "18604    8.6\n",
       "18605      6\n",
       "18606    6.4\n",
       "18607      7\n",
       "18608    5.4\n",
       "18609      8\n",
       "18610      6\n",
       "18611    5.8\n",
       "18612    7.8\n",
       "18613      8\n",
       "18614    9.2\n",
       "18615    9.2\n",
       "18616    7.5\n",
       "18617    8.4\n",
       "18618    9.1\n",
       "18619    7.9\n",
       "18620    7.6\n",
       "18621      9\n",
       "18622    5.8\n",
       "18623     10\n",
       "18624     10\n",
       "Name: score, dtype: object"
      ]
     },
     "execution_count": 41,
     "metadata": {},
     "output_type": "execute_result"
    }
   ],
   "source": [
    "ign_critic[\"score\"]"
   ]
  },
  {
   "cell_type": "code",
   "execution_count": 46,
   "metadata": {
    "collapsed": false
   },
   "outputs": [
    {
     "data": {
      "text/plain": [
       "0        Y\n",
       "1        Y\n",
       "2        N\n",
       "3        N\n",
       "4        N\n",
       "5        N\n",
       "6        N\n",
       "7        Y\n",
       "8        N\n",
       "9        N\n",
       "10       N\n",
       "11       N\n",
       "12       N\n",
       "13       Y\n",
       "14       Y\n",
       "15       N\n",
       "16       N\n",
       "17       N\n",
       "18       N\n",
       "19       N\n",
       "20       N\n",
       "21       N\n",
       "22       N\n",
       "23       N\n",
       "24       Y\n",
       "25       N\n",
       "26       Y\n",
       "27       N\n",
       "28       N\n",
       "29       N\n",
       "        ..\n",
       "18595    N\n",
       "18596    N\n",
       "18597    N\n",
       "18598    N\n",
       "18599    N\n",
       "18600    N\n",
       "18601    N\n",
       "18602    N\n",
       "18603    N\n",
       "18604    N\n",
       "18605    N\n",
       "18606    N\n",
       "18607    N\n",
       "18608    N\n",
       "18609    N\n",
       "18610    N\n",
       "18611    N\n",
       "18612    N\n",
       "18613    N\n",
       "18614    Y\n",
       "18615    Y\n",
       "18616    N\n",
       "18617    N\n",
       "18618    Y\n",
       "18619    N\n",
       "18620    N\n",
       "18621    Y\n",
       "18622    N\n",
       "18623    Y\n",
       "18624    Y\n",
       "Name: editors_choice, dtype: object"
      ]
     },
     "execution_count": 46,
     "metadata": {},
     "output_type": "execute_result"
    }
   ],
   "source": [
    "ign_critic[\"editors_choice\"]"
   ]
  },
  {
   "cell_type": "code",
   "execution_count": null,
   "metadata": {
    "collapsed": true
   },
   "outputs": [],
   "source": []
  },
  {
   "cell_type": "code",
   "execution_count": null,
   "metadata": {
    "collapsed": true
   },
   "outputs": [],
   "source": []
  }
 ],
 "metadata": {
  "kernelspec": {
   "display_name": "Python 2",
   "language": "python",
   "name": "python2"
  },
  "language_info": {
   "codemirror_mode": {
    "name": "ipython",
    "version": 2
   },
   "file_extension": ".py",
   "mimetype": "text/x-python",
   "name": "python",
   "nbconvert_exporter": "python",
   "pygments_lexer": "ipython2",
   "version": "2.7.12"
  }
 },
 "nbformat": 4,
 "nbformat_minor": 2
}
